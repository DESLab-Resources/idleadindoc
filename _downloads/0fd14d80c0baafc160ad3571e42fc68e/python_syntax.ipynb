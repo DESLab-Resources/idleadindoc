{
 "cells": [
  {
   "cell_type": "code",
   "execution_count": 1,
   "id": "42e64c34",
   "metadata": {
    "execution": {
     "iopub.execute_input": "2024-09-03T10:00:37.099321Z",
     "iopub.status.busy": "2024-09-03T10:00:37.099170Z",
     "iopub.status.idle": "2024-09-03T10:00:37.105047Z",
     "shell.execute_reply": "2024-09-03T10:00:37.104549Z"
    }
   },
   "outputs": [
    {
     "name": "stdout",
     "output_type": "stream",
     "text": [
      "Five is greater than two!\n"
     ]
    }
   ],
   "source": [
    "if 5 > 2:\n",
    "   print(\"Five is greater than two!\")"
   ]
  },
  {
   "cell_type": "code",
   "execution_count": 2,
   "id": "3ff4ae48",
   "metadata": {
    "execution": {
     "iopub.execute_input": "2024-09-03T10:00:37.107052Z",
     "iopub.status.busy": "2024-09-03T10:00:37.106872Z",
     "iopub.status.idle": "2024-09-03T10:00:37.110207Z",
     "shell.execute_reply": "2024-09-03T10:00:37.109762Z"
    }
   },
   "outputs": [
    {
     "ename": "IndentationError",
     "evalue": "expected an indented block after 'if' statement on line 1 (3793329317.py, line 2)",
     "output_type": "error",
     "traceback": [
      "\u001b[0;36m  Cell \u001b[0;32mIn[2], line 2\u001b[0;36m\u001b[0m\n\u001b[0;31m    print(\"Five is greater than two!\")\u001b[0m\n\u001b[0m    ^\u001b[0m\n\u001b[0;31mIndentationError\u001b[0m\u001b[0;31m:\u001b[0m expected an indented block after 'if' statement on line 1\n"
     ]
    }
   ],
   "source": [
    "if 5 > 2:\n",
    "print(\"Five is greater than two!\")"
   ]
  },
  {
   "cell_type": "code",
   "execution_count": 3,
   "id": "6b1f015e",
   "metadata": {
    "execution": {
     "iopub.execute_input": "2024-09-03T10:00:37.111813Z",
     "iopub.status.busy": "2024-09-03T10:00:37.111680Z",
     "iopub.status.idle": "2024-09-03T10:00:37.116293Z",
     "shell.execute_reply": "2024-09-03T10:00:37.115740Z"
    }
   },
   "outputs": [
    {
     "name": "stdout",
     "output_type": "stream",
     "text": [
      "Five is greater than two!\n",
      "Five is greater than two!\n"
     ]
    }
   ],
   "source": [
    "if 5 > 2:\n",
    "   print(\"Five is greater than two!\")\n",
    "if 5 > 2:\n",
    "      print(\"Five is greater than two!\")"
   ]
  },
  {
   "cell_type": "code",
   "execution_count": 4,
   "id": "6d95c34e",
   "metadata": {
    "execution": {
     "iopub.execute_input": "2024-09-03T10:00:37.118192Z",
     "iopub.status.busy": "2024-09-03T10:00:37.117993Z",
     "iopub.status.idle": "2024-09-03T10:00:37.120901Z",
     "shell.execute_reply": "2024-09-03T10:00:37.120486Z"
    }
   },
   "outputs": [
    {
     "ename": "IndentationError",
     "evalue": "unexpected indent (3122170252.py, line 3)",
     "output_type": "error",
     "traceback": [
      "\u001b[0;36m  Cell \u001b[0;32mIn[4], line 3\u001b[0;36m\u001b[0m\n\u001b[0;31m    print(\"Five is greater than two!\")\u001b[0m\n\u001b[0m    ^\u001b[0m\n\u001b[0;31mIndentationError\u001b[0m\u001b[0;31m:\u001b[0m unexpected indent\n"
     ]
    }
   ],
   "source": [
    "if 5 > 2:\n",
    "   print(\"Five is greater than two!\")\n",
    "      print(\"Five is greater than two!\")"
   ]
  },
  {
   "cell_type": "code",
   "execution_count": 5,
   "id": "c725816c",
   "metadata": {
    "execution": {
     "iopub.execute_input": "2024-09-03T10:00:37.122365Z",
     "iopub.status.busy": "2024-09-03T10:00:37.122242Z",
     "iopub.status.idle": "2024-09-03T10:00:37.124800Z",
     "shell.execute_reply": "2024-09-03T10:00:37.124371Z"
    }
   },
   "outputs": [
    {
     "name": "stdout",
     "output_type": "stream",
     "text": [
      "5\n",
      "Hello, World!\n"
     ]
    }
   ],
   "source": [
    "x = 5\n",
    "y = \"Hello, World!\"\n",
    "\n",
    "print(x)\n",
    "print(y)"
   ]
  }
 ],
 "metadata": {
  "kernelspec": {
   "display_name": "Python 3 (ipykernel)",
   "language": "python",
   "name": "python3"
  },
  "language_info": {
   "codemirror_mode": {
    "name": "ipython",
    "version": 3
   },
   "file_extension": ".py",
   "mimetype": "text/x-python",
   "name": "python",
   "nbconvert_exporter": "python",
   "pygments_lexer": "ipython3",
   "version": "3.10.14"
  }
 },
 "nbformat": 4,
 "nbformat_minor": 5
}