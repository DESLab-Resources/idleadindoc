{
 "cells": [
  {
   "cell_type": "code",
   "execution_count": 1,
   "id": "0de32ac0",
   "metadata": {
    "execution": {
     "iopub.execute_input": "2024-09-03T12:38:45.077827Z",
     "iopub.status.busy": "2024-09-03T12:38:45.077608Z",
     "iopub.status.idle": "2024-09-03T12:38:45.275340Z",
     "shell.execute_reply": "2024-09-03T12:38:45.274423Z"
    }
   },
   "outputs": [
    {
     "name": "stdout",
     "output_type": "stream",
     "text": [
      "Python 3.10.14\r\n"
     ]
    }
   ],
   "source": [
    "!python --version"
   ]
  },
  {
   "cell_type": "code",
   "execution_count": 2,
   "id": "b1a4e0b4",
   "metadata": {
    "execution": {
     "iopub.execute_input": "2024-09-03T12:38:45.277641Z",
     "iopub.status.busy": "2024-09-03T12:38:45.277469Z",
     "iopub.status.idle": "2024-09-03T12:38:45.486052Z",
     "shell.execute_reply": "2024-09-03T12:38:45.482834Z"
    }
   },
   "outputs": [
    {
     "name": "stdout",
     "output_type": "stream",
     "text": [
      "Hello, World!\r\n"
     ]
    }
   ],
   "source": [
    "!python source/python/helloworld.py"
   ]
  },
  {
   "cell_type": "code",
   "execution_count": 3,
   "id": "18579d69",
   "metadata": {
    "execution": {
     "iopub.execute_input": "2024-09-03T12:38:45.489242Z",
     "iopub.status.busy": "2024-09-03T12:38:45.488915Z",
     "iopub.status.idle": "2024-09-03T12:38:45.495014Z",
     "shell.execute_reply": "2024-09-03T12:38:45.494490Z"
    }
   },
   "outputs": [
    {
     "name": "stdout",
     "output_type": "stream",
     "text": [
      "3.10.14 | packaged by conda-forge | (main, Mar 20 2024, 12:45:18) [GCC 12.3.0]\n"
     ]
    }
   ],
   "source": [
    "import sys\n",
    "\n",
    "print(sys.version)"
   ]
  }
 ],
 "metadata": {
  "kernelspec": {
   "display_name": "Python 3 (ipykernel)",
   "language": "python",
   "name": "python3"
  },
  "language_info": {
   "codemirror_mode": {
    "name": "ipython",
    "version": 3
   },
   "file_extension": ".py",
   "mimetype": "text/x-python",
   "name": "python",
   "nbconvert_exporter": "python",
   "pygments_lexer": "ipython3",
   "version": "3.10.14"
  }
 },
 "nbformat": 4,
 "nbformat_minor": 5
}